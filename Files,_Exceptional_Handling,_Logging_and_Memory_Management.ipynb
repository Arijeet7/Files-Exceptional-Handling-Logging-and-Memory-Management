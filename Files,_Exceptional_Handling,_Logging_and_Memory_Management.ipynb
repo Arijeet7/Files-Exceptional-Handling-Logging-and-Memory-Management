{
  "nbformat": 4,
  "nbformat_minor": 0,
  "metadata": {
    "colab": {
      "provenance": []
    },
    "kernelspec": {
      "name": "python3",
      "display_name": "Python 3"
    },
    "language_info": {
      "name": "python"
    }
  },
  "cells": [
    {
      "cell_type": "markdown",
      "source": [
        "# **Files, Exceptional Handling, Logging and Memory Management**"
      ],
      "metadata": {
        "id": "E9jw94Rmj0zZ"
      }
    },
    {
      "cell_type": "markdown",
      "source": [
        "#**Theory**"
      ],
      "metadata": {
        "id": "dNIMPbGnkGBp"
      }
    },
    {
      "cell_type": "markdown",
      "source": [
        "1. What is the difference between interpreted and compiled languages?\n",
        "\n",
        "Answer:- A **compiled language** is translated into machine code before execution using a compiler, making it faster at runtime.\n",
        "An **interpreted language** is executed line by line at runtime by an interpreter, making it slower but easier to debug.\n",
        "\n",
        "2. What is exception handling in Python?\n",
        "\n",
        "Answer:- Exception handling in Python is a way to manage errors that occur during program execution, allowing the program to continue running instead of crashing.\n",
        "\n",
        "3. What is the purpose of the finally block in exception handling?\n",
        "\n",
        "Answer:- The purpose of the finally block in Python is to ensure that certain code runs no matter what, whether an exception occurs or not.\n",
        "\n",
        "4. What is logging in Python?\n",
        "\n",
        "Answer:- Logging in Python is the process of recording messages about a program’s execution, such as errors, warnings, or informational messages. It helps with debugging, monitoring, and auditing your code.\n",
        "\n",
        "5. What is the significance of the __del__ method in Python?\n",
        "\n",
        "Answer:- The __del__ method in Python is a destructor method. It is called automatically when an object is about to be destroyed, typically when it is garbage collected.\n",
        "\n",
        "6. What is the difference between import and from ... import in Python?\n",
        "\n",
        "Answer:- **import module**\n",
        "Imports the whole module. You access functions or classes using module.name.\n",
        "\n",
        "**from module import name**\n",
        "Imports specific items from a module. You can use them directly without the module prefix.\n",
        "\n",
        "7. How can you handle multiple exceptions in Python?\n",
        "\n",
        "Answer:- Handling multiple exceptions in Python using:\n",
        "handling multiple exceptions in Python using Multiple except blocks and Single except block with a tuple. Both methods catch different exceptions and allow appropriate handling.\n",
        "\n",
        "8. What is the purpose of the with statement when handling files in Python?\n",
        "\n",
        "Answer:- The purpose of the with statement when handling files in Python is to automatically manage resources, ensuring the file is properly opened and closed, even if an error occurs. It simplifies code by handling the file’s open and close actions safely.\n",
        "\n",
        "9. What is the difference between multithreading and multiprocessing?\n",
        "\n",
        "Answer:-\n",
        "  **Multithreading**: Runs multiple threads within the same process, sharing the same memory space. Best for tasks that are I/O-bound (waiting for input/output).\n",
        "\n",
        "  **Multiprocessing**: Runs multiple processes with separate memory spaces, allowing true parallelism. Best for CPU-bound tasks (heavy computation).\n",
        "\n",
        "10. What are the advantages of using logging in a program?\n",
        "\n",
        "Answer:- Advantages of using logging in a program:\n",
        "\n",
        "  Debugging: Helps track down issues by recording error messages and program flow.\n",
        "\n",
        "  Monitoring: Keeps a record of important events and system status.\n",
        "\n",
        "  Auditing: Maintains a history of actions for security and compliance.\n",
        "\n",
        "  Problem diagnosis: Provides detailed context when things go wrong.\n",
        "\n",
        "  Non-intrusive: Unlike print statements, logging can be easily enabled, disabled, or redirected without changing code.\n",
        "  \n",
        "  Different levels: Supports multiple severity levels (DEBUG, INFO, WARNING, ERROR, CRITICAL) to filter messages.\n",
        "\n",
        "11. What is memory management in Python?\n",
        "\n",
        "Answer:- Python automatically handles memory management using reference counting and a garbage collector to free unused memory, so programmers don’t have to manually allocate or deallocate memory.\n",
        "\n",
        "12. What are the basic steps involved in exception handling in Python?\n",
        "\n",
        "Answer:- The basic steps involved in exception handling in Python are:\n",
        "\n",
        "  Try: Write the code that might raise an exception inside a try block.\n",
        "\n",
        "  Except: Handle specific exceptions using one or more except blocks.\n",
        "\n",
        "  Else: Code inside else runs if no exceptions occur.\n",
        "\n",
        "  Finally: Code inside finally runs no matter what, for cleanup.\n",
        "\n",
        "13. Why is memory management important in Python?\n",
        "\n",
        "Answer:- Memory management is important in Python because it:\n",
        "\n",
        "  Prevents memory leaks by freeing unused objects, ensuring the program doesn't consume more memory than necessary.\n",
        "\n",
        "  Optimizes performance by efficiently allocating and deallocating memory as needed.\n",
        "\n",
        "  Maintains program stability by avoiding crashes or slowdowns caused by running out of memory.\n",
        "\n",
        "  Simplifies development by handling memory automatically, so programmers can focus on writing code without manual memory control.\n",
        "\n",
        "14. What is the role of try and except in exception handling?\n",
        "\n",
        "Answer:- The role of try and except in exception handling is:\n",
        "\n",
        "  **try block:** Contains the code that might raise an exception.\n",
        "\n",
        "  **except block:** Defines how to handle the exception if one occurs in the try block.\n",
        "\n",
        "Together, they allow a program to catch and respond to errors gracefully instead of crashing.\n",
        "\n",
        "15. How does Python's garbage collection system work?\n",
        "\n",
        "Answer:- Python’s garbage collection works mainly through reference counting plus a cyclic garbage collector:\n",
        "\n",
        "  **Reference Counting:**\n",
        "  Every object keeps track of how many references point to it. When the count drops to zero (no references), the memory is immediately freed.\n",
        "\n",
        "  **Cyclic Garbage Collector:**\n",
        "  Some objects reference each other forming cycles, so their reference counts never reach zero. Python’s cyclic GC periodically finds and cleans up these reference cycles to free memory.\n",
        "\n",
        "16. What is the purpose of the else block in exception handling?\n",
        "\n",
        "Answer:- The else block in Python exception handling runs only if no exceptions are raised in the try block.\n",
        "\n",
        "Purpose:\n",
        "  To execute code that should run when the try block succeeds without errors.\n",
        "  Helps separate normal execution code from error-handling code for clarity.\n",
        "\n",
        "17. What are the common logging levels in Python?\n",
        "\n",
        "Answer:- The common logging levels in Python are:\n",
        "\n",
        "  DEBUG – Detailed information, typically useful only for diagnosing problems.\n",
        "\n",
        "  INFO – General information about program execution.\n",
        "\n",
        "  WARNING – An indication that something unexpected happened, or a potential problem.\n",
        "\n",
        "  ERROR – A serious problem that caused part of the program to fail.\n",
        "\n",
        "  CRITICAL – A very serious error that may prevent the program from continuing.\n",
        "\n",
        "18. What is the difference between os.fork() and multiprocessing in Python?\n",
        "\n",
        "Answer:-\n",
        "**os.fork():** Creates a new child process by duplicating the current process at the OS level (available on Unix/Linux). The child is an almost exact copy of the parent. It’s a low-level system call.\n",
        "\n",
        "**multiprocessing module:** A high-level Python API to create and manage separate processes, providing better cross-platform support (works on Windows, macOS, Linux) and tools like process pools, queues, and shared memory.\n",
        "\n",
        "19. What is the importance of closing a file in Python?\n",
        "\n",
        "Answer:- The importance of closing a file in Python is to:\n",
        "  Free system resources like file handles that are limited and shared by the OS.\n",
        "  Ensure data is properly saved by flushing any buffered output to the file.\n",
        "  Avoid file corruption or data loss by properly ending file operations.\n",
        "  Prevent potential errors when other programs or parts of your code try to access the file.\n",
        "\n",
        "20. What is the difference between file.read() and file.readline() in Python?\n",
        "\n",
        "Answer:- **file.read()** reads the entire content of the file (or a specified number of bytes) as a single string.\n",
        "\n",
        "**file.readline()** reads one line at a time from the file, returning a single line as a string.\n",
        "\n",
        "21. What is the logging module in Python used for?\n",
        "\n",
        "Answer:- The logging module in Python is used for recording messages about a program’s execution, such as debugging info, warnings, errors, and other runtime events.\n",
        "\n",
        "22. What is the os module in Python used for in file handling?\n",
        "\n",
        "Answer:- The os module in Python provides functions to interact with the operating system, especially useful for file handling tasks beyond simple reading/writing.\n",
        "\n",
        "23. What are the challenges associated with memory management in Python?\n",
        "\n",
        "Answer:- The common challenges associated with memory management in Python are as follows:\n",
        "\n",
        "  **Reference Cycles**\n",
        "  Objects referencing each other can create cycles that the reference counting system alone can’t clean up, requiring the garbage collector to handle them.\n",
        "  \n",
        "  **Memory Leaks**\n",
        "  If objects are unintentionally kept alive (e.g., through global references or caches), memory usage can grow unnecessarily.\n",
        "  \n",
        "  **Unpredictable Garbage Collection**\n",
        "  Garbage collection runs periodically and can introduce pauses, which may affect performance in time-sensitive applications.\n",
        "  \n",
        "  **Large Objects and Fragmentation**\n",
        "  Managing large data structures or many small objects can lead to memory fragmentation and inefficient memory use.\n",
        "  \n",
        "  **Limited Control**\n",
        "  Python’s automatic memory management means developers have less control over when exactly memory is freed, which can be problematic in some low-level or real-time systems.\n",
        "\n",
        "24. How do you raise an exception manually in Python?\n",
        "\n",
        "Answer:- You can raise an exception manually in Python using the raise statement followed by an exception.\n",
        "example: raise ExceptionType(\"Error message\")\n",
        "\n",
        "25. Why is it important to use multithreading in certain applications?\n",
        "\n",
        "Answer:- Multithreading is important in certain applications because it allows:\n",
        "\n",
        "  **Better responsiveness** — programs (like GUIs) stay responsive while performing background tasks.\n",
        "\n",
        "  **Improved performance** for I/O-bound tasks (e.g., file reading, network calls) by running multiple threads that wait without blocking the whole program.\n",
        "\n",
        "  **Efficient resource** use by sharing memory between threads within the same process.\n",
        "\n",
        "  **Simpler design** for tasks that can run concurrently without needing separate processes."
      ],
      "metadata": {
        "id": "17oIezgpkKPx"
      }
    },
    {
      "cell_type": "markdown",
      "source": [
        "#**Practical**"
      ],
      "metadata": {
        "id": "AdgZ2v4ZluAc"
      }
    },
    {
      "cell_type": "code",
      "source": [
        "#1. How can you open a file for writing in Python and write a string to it?\n",
        "with open('my_file.txt', 'w') as f:\n",
        "  f.write('Hello, World!.')\n",
        "\n",
        "print(\"String written to my_file.txt\")"
      ],
      "metadata": {
        "colab": {
          "base_uri": "https://localhost:8080/"
        },
        "id": "lrf7L0U8lxLb",
        "outputId": "147c255b-171b-493b-c79b-c19fa2be6d34"
      },
      "execution_count": null,
      "outputs": [
        {
          "output_type": "stream",
          "name": "stdout",
          "text": [
            "String written to my_file.txt\n"
          ]
        }
      ]
    },
    {
      "cell_type": "code",
      "source": [
        "#2. Write a Python program to read the contents of a file and print each line.\n",
        "with open('my_file.txt', 'r') as f:\n",
        "  for line in f:\n",
        "    print(line)"
      ],
      "metadata": {
        "colab": {
          "base_uri": "https://localhost:8080/"
        },
        "id": "zgCsgJWqnsP_",
        "outputId": "003f4cf7-3b7b-415b-d0d9-529fdb2ea08c"
      },
      "execution_count": null,
      "outputs": [
        {
          "output_type": "stream",
          "name": "stdout",
          "text": [
            "Hello, World!.\n"
          ]
        }
      ]
    },
    {
      "cell_type": "code",
      "source": [
        "# How would you handle a case where the file doesn't exist while trying to open it for reading?\n",
        "try:\n",
        "  with open('non_existent_file.txt', 'r') as f:\n",
        "    content = f.read()\n",
        "    print(content)\n",
        "except FileNotFoundError:\n",
        "  print(\"The file was not found.\")"
      ],
      "metadata": {
        "colab": {
          "base_uri": "https://localhost:8080/"
        },
        "id": "jPRAfXXbo21A",
        "outputId": "804b585d-fcab-48b0-d0b9-b854668d3794"
      },
      "execution_count": null,
      "outputs": [
        {
          "output_type": "stream",
          "name": "stdout",
          "text": [
            "The file was not found.\n"
          ]
        }
      ]
    },
    {
      "cell_type": "code",
      "source": [
        "#4. Write a Python script that reads from one file and writes its content to another file.\n",
        "with open('my_file.txt', 'r') as f:\n",
        "  content = f.read()\n",
        "with open('new_file.txt', 'w') as f:\n",
        "  f.write(content)\n",
        "  print(\"Content copied from my_file.txt to new_file.txt\")"
      ],
      "metadata": {
        "colab": {
          "base_uri": "https://localhost:8080/"
        },
        "id": "i8-UgKmppuNL",
        "outputId": "1bdce336-7f3a-43cb-b2ba-7ab16643f82f"
      },
      "execution_count": null,
      "outputs": [
        {
          "output_type": "stream",
          "name": "stdout",
          "text": [
            "Content copied from my_file.txt to new_file.txt\n"
          ]
        }
      ]
    },
    {
      "cell_type": "code",
      "source": [
        "#5. How would you catch and handle division by zero error in Python?\n",
        "try:\n",
        "  result = 10 / 0\n",
        "except ZeroDivisionError:\n",
        "  print(\"Error: Division by zero\")\n",
        "  result = None\n",
        "  print(\"Result:\", result)"
      ],
      "metadata": {
        "colab": {
          "base_uri": "https://localhost:8080/"
        },
        "id": "fGpMpFJiqIR2",
        "outputId": "f541ca67-4612-49f8-8889-d6046be5c18d"
      },
      "execution_count": null,
      "outputs": [
        {
          "output_type": "stream",
          "name": "stdout",
          "text": [
            "Error: Division by zero\n",
            "Result: None\n"
          ]
        }
      ]
    },
    {
      "cell_type": "code",
      "source": [
        "#6. Write a Python program that logs an error message to a log file when a division by zero exception occurs.\n",
        "import logging\n",
        "logging.basicConfig(\n",
        "    filename='error_log.txt',\n",
        "    level=logging.ERROR,\n",
        "    format='%(asctime)s - %(levelname)s - %(message)s'\n",
        ")\n",
        "\n",
        "try:\n",
        "    result = 10 / 0\n",
        "except ZeroDivisionError as e:\n",
        "    logging.error(\"Division by zero error occurred: %s\", e)"
      ],
      "metadata": {
        "colab": {
          "base_uri": "https://localhost:8080/"
        },
        "id": "z22DsbD-qRM4",
        "outputId": "4b1e416c-b58d-492f-adbb-713d9db5b057"
      },
      "execution_count": null,
      "outputs": [
        {
          "output_type": "stream",
          "name": "stderr",
          "text": [
            "ERROR:root:Division by zero error occurred: division by zero\n"
          ]
        }
      ]
    },
    {
      "cell_type": "code",
      "source": [
        "#7. How do you log information at different levels (INFO, ERROR, WARNING) in Python using the logging module?\n",
        "import logging\n",
        "\n",
        "logging.basicConfig(\n",
        "    level=logging.DEBUG,\n",
        "    format='%(levelname)s: %(message)s'\n",
        ")\n",
        "\n",
        "logging.info(\"This is an info message.\")\n",
        "logging.warning(\"This is a warning message.\")\n",
        "logging.error(\"This is an error message.\")"
      ],
      "metadata": {
        "colab": {
          "base_uri": "https://localhost:8080/"
        },
        "id": "5dTY5Zxtq6to",
        "outputId": "6074fb62-c68d-4720-b39e-7d0719922d2a"
      },
      "execution_count": null,
      "outputs": [
        {
          "output_type": "stream",
          "name": "stderr",
          "text": [
            "WARNING:root:This is a warning message.\n",
            "ERROR:root:This is an error message.\n"
          ]
        }
      ]
    },
    {
      "cell_type": "code",
      "source": [
        "#8. Write a program to handle a file opening error using exception handling.\n",
        "try:\n",
        "    with open('non_existent_file.txt', 'r') as f:\n",
        "        content = f.read()\n",
        "        print(content)\n",
        "except IOError:\n",
        "    print(\"Error: Could not open or read the file.\")\n",
        "except Exception as e:\n",
        "    print(f\"An unexpected error occurred: {e}\")"
      ],
      "metadata": {
        "colab": {
          "base_uri": "https://localhost:8080/"
        },
        "id": "m4OIMGHBr4tO",
        "outputId": "7c47fb66-34c6-45c3-e243-2d0c8f53eb1a"
      },
      "execution_count": null,
      "outputs": [
        {
          "output_type": "stream",
          "name": "stdout",
          "text": [
            "Error: Could not open or read the file.\n"
          ]
        }
      ]
    },
    {
      "cell_type": "code",
      "source": [
        "#9. How can you read a file line by line and store its content in a list in Python?\n",
        "try:\n",
        "  with open('my_file.txt', 'r') as f:\n",
        "    lines = f.readlines()\n",
        "    print(lines)\n",
        "except FileNotFoundError:\n",
        "  print(\"The file was not found.\")\n",
        "  lines = []\n",
        "print(\"Lines:\", lines)"
      ],
      "metadata": {
        "colab": {
          "base_uri": "https://localhost:8080/"
        },
        "id": "FWuQ8BgislIX",
        "outputId": "a7c5b10e-651e-4437-8c44-891ab10bd47b"
      },
      "execution_count": null,
      "outputs": [
        {
          "output_type": "stream",
          "name": "stdout",
          "text": [
            "['Hello, World!.']\n",
            "Lines: ['Hello, World!.']\n"
          ]
        }
      ]
    },
    {
      "cell_type": "code",
      "source": [
        "#10. How can you append data to an existing file in Python?\n",
        "with open('my_file.txt', 'a') as f:\n",
        "  f.write('\\n New file new text.')\n",
        "print(\"Data appended to my_file.txt\")\n",
        "\n"
      ],
      "metadata": {
        "colab": {
          "base_uri": "https://localhost:8080/"
        },
        "id": "K680ROPbsv4k",
        "outputId": "806180d9-cc61-4ed3-8c58-3d2617e24bf1"
      },
      "execution_count": null,
      "outputs": [
        {
          "output_type": "stream",
          "name": "stdout",
          "text": [
            "Data appended to my_file.txt\n"
          ]
        }
      ]
    },
    {
      "cell_type": "code",
      "source": [
        "#11. Write a Python program that uses a try-except block to handle an error when attempting to access a dictionary key that doesn't exist.\n",
        "my_dict = {\"name\": \"Arijeet\", \"age\": 28}\n",
        "\n",
        "try:\n",
        "    value = my_dict[\"address\"]\n",
        "    print(\"Address:\", value)\n",
        "except KeyError:\n",
        "    print(\"Error: 'address' not found in the dictionary.\")"
      ],
      "metadata": {
        "colab": {
          "base_uri": "https://localhost:8080/"
        },
        "id": "uRRBO9CQt96c",
        "outputId": "afdee0e9-17ce-42fd-ebf5-404bd62b8a2b"
      },
      "execution_count": null,
      "outputs": [
        {
          "output_type": "stream",
          "name": "stdout",
          "text": [
            "Error: 'address' not found in the dictionary.\n"
          ]
        }
      ]
    },
    {
      "cell_type": "code",
      "source": [
        "#12. Write a program that demonstrates using multiple except blocks to handle different types of exceptions.\n",
        "try:\n",
        "    num1 = int(input(\"Enter a numerator: \"))\n",
        "    num2 = int(input(\"Enter another denominator: \"))\n",
        "    result = num1 / num2\n",
        "    print(\"Result:\", result)\n",
        "except ValueError:\n",
        "    print(\"Error: Please enter valid integers.\")\n",
        "except ZeroDivisionError:\n",
        "    print(\"Error: Division by zero is not allowed.\")\n",
        "except Exception as e:\n",
        "    print(f\"An unexpected error occurred: {e}\")"
      ],
      "metadata": {
        "colab": {
          "base_uri": "https://localhost:8080/"
        },
        "id": "0XBPAVvIuXUA",
        "outputId": "8349dcae-fe28-4c1e-d5cc-bb34e2aa8a5d"
      },
      "execution_count": null,
      "outputs": [
        {
          "output_type": "stream",
          "name": "stdout",
          "text": [
            "Enter a number: 12\n",
            "Enter another number: 0\n",
            "Error: Division by zero is not allowed.\n"
          ]
        }
      ]
    },
    {
      "cell_type": "code",
      "source": [
        "#13. How would you check if a file exists before attempting to read it in Python?\n",
        "import os\n",
        "\n",
        "file_path = 'my_file.txt'\n",
        "\n",
        "if os.path.exists(file_path):\n",
        "    with open(file_path, 'r') as f:\n",
        "        content = f.read()\n",
        "        print(content)\n",
        "        print(\"File exists and content read successfully.\")\n",
        "else:\n",
        "    print(\"Error: File does not exist.\")"
      ],
      "metadata": {
        "colab": {
          "base_uri": "https://localhost:8080/"
        },
        "id": "742_yD-9udP8",
        "outputId": "8f052310-40a5-4153-d009-733825f78980"
      },
      "execution_count": null,
      "outputs": [
        {
          "output_type": "stream",
          "name": "stdout",
          "text": [
            "Hello, World!.\n",
            "Appended line.\n",
            "Appended line.\n",
            " New file new text.\n",
            " New file new text.\n",
            "File exists and content read successfully.\n"
          ]
        }
      ]
    },
    {
      "cell_type": "code",
      "source": [
        "#14. Write a program that uses the logging module to log both informational and error messages.\n",
        "import logging\n",
        "logging.basicConfig(\n",
        "    filename='app.log',\n",
        "    level=logging.DEBUG,\n",
        "    format='%(asctime)s - %(levelname)s - %(message)s'\n",
        ")\n",
        "\n",
        "logging.info(\"Program started successfully.\")\n",
        "\n",
        "try:\n",
        "    result = 10 / 0\n",
        "except ZeroDivisionError as e:\n",
        "    logging.error(f\"Error occurred: {e}\")\n",
        "\n",
        "logging.info(\"Program finished running.\")"
      ],
      "metadata": {
        "colab": {
          "base_uri": "https://localhost:8080/"
        },
        "id": "Liso4wB6vXGB",
        "outputId": "6a815b79-f5d0-4cc1-e587-c1f7343b3d5d"
      },
      "execution_count": null,
      "outputs": [
        {
          "output_type": "stream",
          "name": "stderr",
          "text": [
            "ERROR:root:Error occurred: division by zero\n"
          ]
        }
      ]
    },
    {
      "cell_type": "code",
      "source": [
        "#15. Write a Python program that prints the content of a file and handles the case when the file is empty.\n",
        "try:\n",
        "  with open('my_file.txt', 'r') as f:\n",
        "    content = f.read()\n",
        "    if content:\n",
        "      print(content)\n",
        "    else:\n",
        "      print(\"The file is empty.\")\n",
        "except FileNotFoundError:\n",
        "  print(f\"Error: The file '{filename}' was not found.\")\n",
        "except Exception as e:\n",
        "  print(f\"An unexpected error occurred: {e}\")"
      ],
      "metadata": {
        "colab": {
          "base_uri": "https://localhost:8080/"
        },
        "id": "pGMNsY09wQid",
        "outputId": "07fabe84-5679-420b-8f63-8b08396b200d"
      },
      "execution_count": null,
      "outputs": [
        {
          "output_type": "stream",
          "name": "stdout",
          "text": [
            "Hello, World!.\n",
            "Appended line.\n",
            "Appended line.\n",
            " New file new text.\n",
            " New file new text.\n"
          ]
        }
      ]
    },
    {
      "cell_type": "code",
      "source": [
        "#17. Write a Python program to create and write a list of numbers to a file, one number per line.\n",
        "with open('numbers.txt', 'w') as f:\n",
        "  numbers = [1, 2, 3, 4, 5]\n",
        "  for num in numbers:\n",
        "    f.write(str(num) + '\\n')\n",
        "print(\"Numbers written to 'numbers.txt'.\")\n"
      ],
      "metadata": {
        "colab": {
          "base_uri": "https://localhost:8080/"
        },
        "id": "ccM-PmK_wwKB",
        "outputId": "b4383efc-a8e3-454c-8442-664ce2d38910"
      },
      "execution_count": 56,
      "outputs": [
        {
          "output_type": "stream",
          "name": "stdout",
          "text": [
            "Numbers written to 'numbers.txt'.\n"
          ]
        }
      ]
    },
    {
      "cell_type": "code",
      "source": [
        "#18. How would you implement a basic logging setup that logs to a file with rotation after 1MB?\n",
        "\n",
        "import logging\n",
        "from logging.handlers import RotatingFileHandler\n",
        "import os\n",
        "\n",
        "log_dir = 'logs'\n",
        "if not os.path.exists(log_dir):\n",
        "    os.makedirs(log_dir)\n",
        "\n",
        "log_file = os.path.join(log_dir, 'rotating_app.log')\n",
        "max_bytes = 1 * 1024 * 1024  # 1MB\n",
        "backup_count = 5\n",
        "\n",
        "rotating_handler = RotatingFileHandler(\n",
        "    log_file,\n",
        "    maxBytes=max_bytes,\n",
        "    backupCount=backup_count\n",
        ")\n",
        "\n",
        "formatter = logging.Formatter('%(asctime)s - %(name)s - %(levelname)s - %(message)s')\n",
        "rotating_handler.setFormatter(formatter)\n",
        "\n",
        "logger = logging.getLogger('')\n",
        "logger.setLevel(logging.DEBUG)\n",
        "logger.addHandler(rotating_handler)\n",
        "logger.info(\"This is an informational message.\")\n",
        "logger.warning(\"This is a warning message.\")\n",
        "logger.error(\"This is an error message.\")\n",
        "\n",
        "print(f\"Logging configured with rotation to '{log_file}'\")\n"
      ],
      "metadata": {
        "colab": {
          "base_uri": "https://localhost:8080/"
        },
        "id": "e77rcB0w17UU",
        "outputId": "51799820-43e6-4f90-9b5a-8549b4e3cc6a"
      },
      "execution_count": 64,
      "outputs": [
        {
          "output_type": "stream",
          "name": "stderr",
          "text": [
            "INFO:root:This is an informational message.\n",
            "WARNING:root:This is a warning message.\n",
            "ERROR:root:This is an error message.\n"
          ]
        },
        {
          "output_type": "stream",
          "name": "stdout",
          "text": [
            "Logging configured with rotation to 'logs/rotating_app.log'\n"
          ]
        }
      ]
    },
    {
      "cell_type": "code",
      "source": [
        "#19. Write a program that handles both IndexError and KeyError using a try-except block.\n",
        "\n",
        "my_list = [1, 2, 3]\n",
        "my_dict = {\"a\": 1, \"b\": 2}\n",
        "\n",
        "try:\n",
        "    print(my_list[3])\n",
        "    print(my_dict[\"c\"])\n",
        "except IndexError:\n",
        "    print(\"IndexError: List index out of range.\")\n",
        "except KeyError:\n",
        "    print(\"KeyError: Dictionary key not found.\")"
      ],
      "metadata": {
        "colab": {
          "base_uri": "https://localhost:8080/"
        },
        "id": "x5yzw4SD4aIm",
        "outputId": "1f23dc0e-c6a6-45b8-c677-c9e93347eee4"
      },
      "execution_count": 73,
      "outputs": [
        {
          "output_type": "stream",
          "name": "stdout",
          "text": [
            "IndexError: List index out of range.\n"
          ]
        }
      ]
    },
    {
      "cell_type": "code",
      "source": [
        "#20. How would you open a file and read its contents using a context manager in Python?\n",
        "\n",
        "try:\n",
        "    with open('my_file.txt', 'r') as f:\n",
        "        content = f.read()\n",
        "        print(\"File content:\")\n",
        "        print(content)\n",
        "except FileNotFoundError:\n",
        "    print(\"Error: 'my_file.txt' not found.\")"
      ],
      "metadata": {
        "colab": {
          "base_uri": "https://localhost:8080/"
        },
        "id": "o8GbXXFO4teb",
        "outputId": "68c9b335-8360-4860-a908-70ac545f8fbc"
      },
      "execution_count": 72,
      "outputs": [
        {
          "output_type": "stream",
          "name": "stdout",
          "text": [
            "File content:\n",
            "Hello, World!.\n",
            "Appended line.\n",
            "Appended line.\n",
            " New file new text.\n",
            " New file new text.\n"
          ]
        }
      ]
    },
    {
      "cell_type": "code",
      "source": [
        "#21. Write a Python program that reads a file and prints the number of occurrences of a specific word.\n",
        "\n",
        "filename = 'my_file.txt'\n",
        "word_to_find = 'file'\n",
        "count = 0\n",
        "\n",
        "try:\n",
        "    with open(filename, 'r') as f:\n",
        "        content = f.read()\n",
        "        words = content.lower().split()\n",
        "        count = words.count(word_to_find.lower())\n",
        "\n",
        "    print(f\"The word '{word_to_find}' appears {count} times in '{filename}'.\")\n",
        "\n",
        "except FileNotFoundError:\n",
        "    print(f\"Error: The file '{filename}' was not found.\")\n",
        "except Exception as e:\n",
        "    print(f\"An unexpected error occurred: {e}\")"
      ],
      "metadata": {
        "colab": {
          "base_uri": "https://localhost:8080/"
        },
        "id": "6TZq2BUX42oN",
        "outputId": "148e0986-75af-46a1-99f6-f3985cbd09f3"
      },
      "execution_count": 71,
      "outputs": [
        {
          "output_type": "stream",
          "name": "stdout",
          "text": [
            "The word 'file' appears 2 times in 'my_file.txt'.\n"
          ]
        }
      ]
    },
    {
      "cell_type": "code",
      "source": [
        "#22. How can you check if a file is empty before attempting to read its contents?\n",
        "\n",
        "import os\n",
        "\n",
        "filename = 'my_file.txt'\n",
        "\n",
        "try:\n",
        "    if os.path.exists(filename):\n",
        "        if os.path.getsize(filename) > 0:\n",
        "            with open(filename, 'r') as f:\n",
        "                content = f.read()\n",
        "                print(f\"File '{filename}' is not empty. Content:\")\n",
        "                print(content)\n",
        "        else:\n",
        "            print(f\"File '{filename}' is empty.\")\n",
        "    else:\n",
        "        print(f\"Error: File '{filename}' not found.\")\n",
        "except Exception as e:\n",
        "    print(f\"An unexpected error occurred: {e}\")"
      ],
      "metadata": {
        "colab": {
          "base_uri": "https://localhost:8080/"
        },
        "id": "3Vv_aOYX5Iap",
        "outputId": "ef50a5be-3180-4afc-e99b-66767007211b"
      },
      "execution_count": 70,
      "outputs": [
        {
          "output_type": "stream",
          "name": "stdout",
          "text": [
            "File 'my_file.txt' is not empty. Content:\n",
            "Hello, World!.\n",
            "Appended line.\n",
            "Appended line.\n",
            " New file new text.\n",
            " New file new text.\n"
          ]
        }
      ]
    },
    {
      "cell_type": "code",
      "source": [
        "#23. Write a Python program that writes to a log file when an error occurs during file handling.\n",
        "\n",
        "import logging\n",
        "\n",
        "logging.basicConfig(\n",
        "    filename='file_error.log',\n",
        "    level=logging.ERROR,\n",
        "    format='%(asctime)s - %(levelname)s - %(message)s'\n",
        ")\n",
        "\n",
        "filename = 'non_existent_file_for_error.txt'\n",
        "\n",
        "try:\n",
        "    with open(filename, 'r') as f:\n",
        "        content = f.read()\n",
        "        print(content)\n",
        "except FileNotFoundError:\n",
        "    logging.error(f\"Error: File not found when trying to read '{filename}'.\")\n",
        "except Exception as e:\n",
        "    logging.error(f\"An unexpected error occurred during file handling: {e}\")\n",
        "\n",
        "print(f\"Attempted to read '{filename}'. Check 'file_error.log' for errors.\")"
      ],
      "metadata": {
        "colab": {
          "base_uri": "https://localhost:8080/"
        },
        "id": "Xx0_nH8R52El",
        "outputId": "5ab136d8-cc4b-427c-d073-22bf065c84ae"
      },
      "execution_count": 77,
      "outputs": [
        {
          "output_type": "stream",
          "name": "stderr",
          "text": [
            "ERROR:root:Error: File not found when trying to read 'non_existent_file_for_error.txt'.\n"
          ]
        },
        {
          "output_type": "stream",
          "name": "stdout",
          "text": [
            "Attempted to read 'non_existent_file_for_error.txt'. Check 'file_error.log' for errors.\n"
          ]
        }
      ]
    }
  ]
}